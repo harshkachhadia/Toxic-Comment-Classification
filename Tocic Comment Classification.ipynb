{
  "nbformat": 4,
  "nbformat_minor": 0,
  "metadata": {
    "accelerator": "GPU",
    "colab": {
      "name": "NLP_Final_Project.ipynb",
      "provenance": [],
      "collapsed_sections": [
        "78l194JyE9nm",
        "Mt9XGr0oeyjH",
        "JF3nYfhze5Od",
        "ejeqR0loe9I_"
      ]
    },
    "kernelspec": {
      "display_name": "Python 3",
      "name": "python3"
    },
    "language_info": {
      "name": "python"
    }
  },
  "cells": [
    {
      "cell_type": "markdown",
      "metadata": {
        "id": "78l194JyE9nm"
      },
      "source": [
        "#Imports\n"
      ]
    },
    {
      "cell_type": "code",
      "metadata": {
        "colab": {
          "base_uri": "https://localhost:8080/"
        },
        "id": "TMsK0RGJDZ4Q",
        "outputId": "76783857-0769-4ed7-8e6a-2bb4221d8e89"
      },
      "source": [
        "# Import required modules\n",
        "\n",
        "import numpy as np\n",
        "import pandas as pd\n",
        "import re\n",
        "import string\n",
        "import matplotlib.pyplot as plt\n",
        "\n",
        "import warnings\n",
        "warnings.filterwarnings(\"ignore\")\n",
        "\n",
        "import nltk\n",
        "from nltk.tokenize import sent_tokenize,word_tokenize\n",
        "from nltk.corpus import stopwords\n",
        "from tqdm import tqdm\n",
        "\n",
        "nltk.download('punkt')\n",
        "nltk.download('stopwords')\n",
        "stop = stopwords.words('english')\n",
        "\n",
        "from sklearn import feature_extraction, model_selection, naive_bayes, pipeline, manifold, preprocessing, metrics\n",
        "from sklearn.preprocessing import LabelEncoder\n",
        "from sklearn.feature_extraction.text import TfidfVectorizer\n",
        "from sklearn.linear_model import LogisticRegression\n",
        "\n",
        "from tensorflow import keras\n",
        "from keras.preprocessing.text import Tokenizer\n",
        "from keras.preprocessing.sequence import pad_sequences\n",
        "from keras.layers import Dense, Input, LSTM, GRU, Embedding, Dropout, Activation, BatchNormalization, SpatialDropout1D, CuDNNLSTM\n",
        "from keras.layers import Bidirectional, GlobalMaxPool1D\n",
        "from keras.models import Model, Sequential\n",
        "from keras import initializers, regularizers, constraints, optimizers, layers, callbacks"
      ],
      "execution_count": null,
      "outputs": [
        {
          "output_type": "stream",
          "name": "stdout",
          "text": [
            "[nltk_data] Downloading package punkt to /root/nltk_data...\n",
            "[nltk_data]   Unzipping tokenizers/punkt.zip.\n",
            "[nltk_data] Downloading package stopwords to /root/nltk_data...\n",
            "[nltk_data]   Unzipping corpora/stopwords.zip.\n"
          ]
        }
      ]
    },
    {
      "cell_type": "code",
      "metadata": {
        "colab": {
          "base_uri": "https://localhost:8080/"
        },
        "id": "PORsVtVRDb1S",
        "outputId": "c94c6ff5-c75d-4d2e-db31-8abf4a1dfce6"
      },
      "source": [
        "# Import Data\n",
        "\n",
        "from google.colab import drive\n",
        "drive.mount('/content/drive')\n",
        "\n",
        "# Change PATH to folder\n",
        "DATA_PATH = \"drive/MyDrive/nlp_project/\"\n",
        "\n",
        "train = pd.read_csv(DATA_PATH + \"train.csv\")\n",
        "test = pd.read_csv(DATA_PATH + \"test.csv\")\n",
        "test_labels = pd.read_csv(DATA_PATH + \"test_labels.csv\")"
      ],
      "execution_count": null,
      "outputs": [
        {
          "output_type": "stream",
          "name": "stdout",
          "text": [
            "Mounted at /content/drive\n"
          ]
        }
      ]
    },
    {
      "cell_type": "markdown",
      "metadata": {
        "id": "Mt9XGr0oeyjH"
      },
      "source": [
        "# Dataset Exploration"
      ]
    },
    {
      "cell_type": "code",
      "metadata": {
        "colab": {
          "base_uri": "https://localhost:8080/"
        },
        "id": "xNn1a3GKNLhB",
        "outputId": "886b56ba-d8bd-4269-fb14-c02a99ef3ae3"
      },
      "source": [
        "train.head()"
      ],
      "execution_count": null,
      "outputs": [
        {
          "output_type": "execute_result",
          "data": {
            "text/html": [
              "<div>\n",
              "<style scoped>\n",
              "    .dataframe tbody tr th:only-of-type {\n",
              "        vertical-align: middle;\n",
              "    }\n",
              "\n",
              "    .dataframe tbody tr th {\n",
              "        vertical-align: top;\n",
              "    }\n",
              "\n",
              "    .dataframe thead th {\n",
              "        text-align: right;\n",
              "    }\n",
              "</style>\n",
              "<table border=\"1\" class=\"dataframe\">\n",
              "  <thead>\n",
              "    <tr style=\"text-align: right;\">\n",
              "      <th></th>\n",
              "      <th>id</th>\n",
              "      <th>comment_text</th>\n",
              "      <th>toxic</th>\n",
              "      <th>severe_toxic</th>\n",
              "      <th>obscene</th>\n",
              "      <th>threat</th>\n",
              "      <th>insult</th>\n",
              "      <th>identity_hate</th>\n",
              "    </tr>\n",
              "  </thead>\n",
              "  <tbody>\n",
              "    <tr>\n",
              "      <th>0</th>\n",
              "      <td>0000997932d777bf</td>\n",
              "      <td>Explanation\\nWhy the edits made under my usern...</td>\n",
              "      <td>0</td>\n",
              "      <td>0</td>\n",
              "      <td>0</td>\n",
              "      <td>0</td>\n",
              "      <td>0</td>\n",
              "      <td>0</td>\n",
              "    </tr>\n",
              "    <tr>\n",
              "      <th>1</th>\n",
              "      <td>000103f0d9cfb60f</td>\n",
              "      <td>D'aww! He matches this background colour I'm s...</td>\n",
              "      <td>0</td>\n",
              "      <td>0</td>\n",
              "      <td>0</td>\n",
              "      <td>0</td>\n",
              "      <td>0</td>\n",
              "      <td>0</td>\n",
              "    </tr>\n",
              "    <tr>\n",
              "      <th>2</th>\n",
              "      <td>000113f07ec002fd</td>\n",
              "      <td>Hey man, I'm really not trying to edit war. It...</td>\n",
              "      <td>0</td>\n",
              "      <td>0</td>\n",
              "      <td>0</td>\n",
              "      <td>0</td>\n",
              "      <td>0</td>\n",
              "      <td>0</td>\n",
              "    </tr>\n",
              "    <tr>\n",
              "      <th>3</th>\n",
              "      <td>0001b41b1c6bb37e</td>\n",
              "      <td>\"\\nMore\\nI can't make any real suggestions on ...</td>\n",
              "      <td>0</td>\n",
              "      <td>0</td>\n",
              "      <td>0</td>\n",
              "      <td>0</td>\n",
              "      <td>0</td>\n",
              "      <td>0</td>\n",
              "    </tr>\n",
              "    <tr>\n",
              "      <th>4</th>\n",
              "      <td>0001d958c54c6e35</td>\n",
              "      <td>You, sir, are my hero. Any chance you remember...</td>\n",
              "      <td>0</td>\n",
              "      <td>0</td>\n",
              "      <td>0</td>\n",
              "      <td>0</td>\n",
              "      <td>0</td>\n",
              "      <td>0</td>\n",
              "    </tr>\n",
              "  </tbody>\n",
              "</table>\n",
              "</div>"
            ],
            "text/plain": [
              "                 id  ... identity_hate\n",
              "0  0000997932d777bf  ...             0\n",
              "1  000103f0d9cfb60f  ...             0\n",
              "2  000113f07ec002fd  ...             0\n",
              "3  0001b41b1c6bb37e  ...             0\n",
              "4  0001d958c54c6e35  ...             0\n",
              "\n",
              "[5 rows x 8 columns]"
            ]
          },
          "metadata": {},
          "execution_count": 5
        }
      ]
    },
    {
      "cell_type": "code",
      "metadata": {
        "colab": {
          "base_uri": "https://localhost:8080/"
        },
        "id": "mtSsCdvJNOLn",
        "outputId": "aeb33b6f-8047-4e3d-c7f0-7c1d4658a3ac"
      },
      "source": [
        "# Example comment\n",
        "\n",
        "train[\"comment_text\"].values[0]"
      ],
      "execution_count": null,
      "outputs": [
        {
          "output_type": "execute_result",
          "data": {
            "application/vnd.google.colaboratory.intrinsic+json": {
              "type": "string"
            },
            "text/plain": [
              "\"Explanation\\nWhy the edits made under my username Hardcore Metallica Fan were reverted? They weren't vandalisms, just closure on some GAs after I voted at New York Dolls FAC. And please don't remove the template from the talk page since I'm retired now.89.205.38.27\""
            ]
          },
          "metadata": {},
          "execution_count": 6
        }
      ]
    },
    {
      "cell_type": "code",
      "metadata": {
        "colab": {
          "base_uri": "https://localhost:8080/"
        },
        "id": "f2Y7OHbpP_Lx",
        "outputId": "16fe87c3-a131-4f5e-9b73-89c37602855d"
      },
      "source": [
        "print(\"Trining data shape:\", train.shape)\n",
        "print(\"Testing data shape:\",test.shape)"
      ],
      "execution_count": null,
      "outputs": [
        {
          "output_type": "stream",
          "name": "stdout",
          "text": [
            "Trining data shape: (159571, 8)\n",
            "Testing data shape: (153164, 2)\n"
          ]
        }
      ]
    },
    {
      "cell_type": "code",
      "metadata": {
        "colab": {
          "base_uri": "https://localhost:8080/"
        },
        "id": "AU9aBRrpSOej",
        "outputId": "1494fdb8-edc1-4a23-b6e8-0b454a181ee4"
      },
      "source": [
        "# Check for NaNs in the training data\n",
        "\n",
        "train.isnull().any()"
      ],
      "execution_count": null,
      "outputs": [
        {
          "output_type": "execute_result",
          "data": {
            "text/plain": [
              "id               False\n",
              "comment_text     False\n",
              "toxic            False\n",
              "severe_toxic     False\n",
              "obscene          False\n",
              "threat           False\n",
              "insult           False\n",
              "identity_hate    False\n",
              "dtype: bool"
            ]
          },
          "metadata": {},
          "execution_count": 8
        }
      ]
    },
    {
      "cell_type": "code",
      "metadata": {
        "colab": {
          "base_uri": "https://localhost:8080/"
        },
        "id": "UdkZofPup7Xr",
        "outputId": "d3f72670-61d0-4de3-de05-64a299e64a2c"
      },
      "source": [
        "# Check for NaNs in the testing data\n",
        "\n",
        "test.isnull().any()"
      ],
      "execution_count": null,
      "outputs": [
        {
          "output_type": "execute_result",
          "data": {
            "text/plain": [
              "id              False\n",
              "comment_text    False\n",
              "dtype: bool"
            ]
          },
          "metadata": {},
          "execution_count": 9
        }
      ]
    },
    {
      "cell_type": "markdown",
      "metadata": {
        "id": "rXYe6k1mIbGK"
      },
      "source": [
        "Merging Test Files and Removing rows with -1 labels"
      ]
    },
    {
      "cell_type": "code",
      "metadata": {
        "id": "uz93k-ju6wit"
      },
      "source": [
        "# Merge test data with test labels and drop all rows with label as -1\n",
        "\n",
        "concatenated_test = pd.merge(test, test_labels)\n",
        "concat_cols = concatenated_test[ (concatenated_test['toxic'] == -1) & (concatenated_test['severe_toxic'] == -1) & (concatenated_test['obscene'] == -1) & (concatenated_test['threat'] == -1) & (concatenated_test['insult'] == -1) & (concatenated_test['identity_hate'] == -1)].index\n",
        "test = concatenated_test.drop(concat_cols, inplace = False)\n",
        "test.drop(['id'], inplace = True, axis = 1)\n",
        "\n",
        "test_y = test[['toxic', 'severe_toxic', 'obscene', 'threat', 'insult', 'identity_hate']].copy()"
      ],
      "execution_count": null,
      "outputs": []
    },
    {
      "cell_type": "markdown",
      "metadata": {
        "id": "JF3nYfhze5Od"
      },
      "source": [
        "# Data Preprocessing"
      ]
    },
    {
      "cell_type": "markdown",
      "metadata": {
        "id": "Ev-erDIZF541"
      },
      "source": [
        "Declaring Punctuations Bank"
      ]
    },
    {
      "cell_type": "code",
      "metadata": {
        "id": "3b25451c"
      },
      "source": [
        "punctuations = [',', '.', '\"', ':', ')', '(', '-', '!', '?', '|', ';', \"'\", '$', '&', '/', '[', ']', '>', '%', '=', '#', '*', '+', '\\\\', '•',  '~', '@', '£', \n",
        " '·', '_', '{', '}', '©', '^', '®', '`',  '<', '→', '°', '€', '™', '›',  '♥', '←', '×', '§', '″', '′', 'Â', '█', '½', 'à', '…', \n",
        " '“', '★', '”', '–', '●', 'â', '►', '−', '¢', '²', '¬', '░', '¶', '↑', '±', '¿', '▾', '═', '¦', '║', '―', '¥', '▓', '—', '‹', '─', \n",
        " '▒', '：', '¼', '⊕', '▼', '▪', '†', '■', '’', '▀', '¨', '▄', '♫', '☆', 'é', '¯', '♦', '¤', '▲', 'è', '¸', '¾', 'Ã', '⋅', '‘', '∞', \n",
        " '∙', '）', '↓', '、', '│', '（', '»', '，', '♪', '╩', '╚', '³', '・', '╦', '╣', '╔', '╗', '▬', '❤', 'ï', 'Ø', '¹', '≤', '‡', '√', ]"
      ],
      "execution_count": null,
      "outputs": []
    },
    {
      "cell_type": "markdown",
      "metadata": {
        "id": "MmGWuQMhF5Tf"
      },
      "source": [
        "Method to Removing Numbers"
      ]
    },
    {
      "cell_type": "code",
      "metadata": {
        "id": "aFlzbUSsEGn2"
      },
      "source": [
        "def number_cleaning(x):\n",
        "    if bool(re.search(r'\\d', x)):\n",
        "        x = re.sub('[0-9]{5,}', '#####', x)\n",
        "        x = re.sub('[0-9]{4}', '####', x)\n",
        "        x = re.sub('[0-9]{3}', '###', x)\n",
        "        x = re.sub('[0-9]{2}', '##', x)\n",
        "    return x"
      ],
      "execution_count": null,
      "outputs": []
    },
    {
      "cell_type": "markdown",
      "metadata": {
        "id": "A8qZ2QwwGHcn"
      },
      "source": [
        "Method to clean text of punctuations"
      ]
    },
    {
      "cell_type": "code",
      "metadata": {
        "id": "AsrUXi0dEExR"
      },
      "source": [
        "def text_cleaning(x):\n",
        "    x = str(x).lower()\n",
        "    for punctuation in punctuations:\n",
        "        if punctuation in x:\n",
        "            x = x.replace(punctuation, '')\n",
        "    return x"
      ],
      "execution_count": null,
      "outputs": []
    },
    {
      "cell_type": "code",
      "metadata": {
        "id": "17bc32c6"
      },
      "source": [
        "# Applying the preprocessing functions on both training and testing set\n",
        "\n",
        "train['comment_text'] = train['comment_text'].apply(lambda x: ' '.join([word for word in x.split() if word not in (stop)]))\n",
        "train['comment_text'] = train['comment_text'].apply(text_cleaning)\n",
        "train['comment_text'] = train['comment_text'].apply(number_cleaning)\n",
        "\n",
        "test['comment_text'] = test['comment_text'].apply(lambda x: ' '.join([word for word in x.split() if word not in (stop)]))\n",
        "test['comment_text'] = test['comment_text'].apply(text_cleaning)\n",
        "test['comment_text'] = test['comment_text'].apply(number_cleaning)"
      ],
      "execution_count": null,
      "outputs": []
    },
    {
      "cell_type": "markdown",
      "metadata": {
        "id": "ejeqR0loe9I_"
      },
      "source": [
        "# Baseline Model"
      ]
    },
    {
      "cell_type": "markdown",
      "metadata": {
        "id": "6ddb6294"
      },
      "source": [
        "\n",
        "Using TF-IDF for word/sentence embedding"
      ]
    },
    {
      "cell_type": "code",
      "metadata": {
        "id": "8dac4b8e"
      },
      "source": [
        "tfidf_vectorizer = TfidfVectorizer(max_features=9000, ngram_range=(1,2))\n",
        "train_X = tfidf_vectorizer.fit_transform(train['comment_text'])\n",
        "test_X = tfidf_vectorizer.fit_transform(test['comment_text'])"
      ],
      "execution_count": null,
      "outputs": []
    },
    {
      "cell_type": "markdown",
      "metadata": {
        "id": "HzYfV34tHK5G"
      },
      "source": [
        "Model Building & Training - Logistic Regression\n"
      ]
    },
    {
      "cell_type": "code",
      "metadata": {
        "colab": {
          "base_uri": "https://localhost:8080/"
        },
        "id": "52292486",
        "outputId": "2c35b2d6-a6a9-4d29-dbae-8b6e345f4cfe"
      },
      "source": [
        "logistic_toxic = LogisticRegression(random_state=0)\n",
        "logistic_toxic.fit(train_X,train['toxic'])"
      ],
      "execution_count": null,
      "outputs": [
        {
          "data": {
            "text/plain": [
              "LogisticRegression(random_state=0)"
            ]
          },
          "execution_count": 14,
          "metadata": {},
          "output_type": "execute_result"
        }
      ]
    },
    {
      "cell_type": "code",
      "metadata": {
        "colab": {
          "base_uri": "https://localhost:8080/"
        },
        "id": "Qsd0FsIU8DYr",
        "outputId": "f89f60ed-f231-4eca-d480-8e47f527b1fd"
      },
      "source": [
        "logistic_severetoxic = LogisticRegression(random_state=0)\n",
        "logistic_severetoxic.fit(train_X, train['severe_toxic'])"
      ],
      "execution_count": null,
      "outputs": [
        {
          "data": {
            "text/plain": [
              "LogisticRegression(random_state=0)"
            ]
          },
          "execution_count": 15,
          "metadata": {},
          "output_type": "execute_result"
        }
      ]
    },
    {
      "cell_type": "code",
      "metadata": {
        "colab": {
          "base_uri": "https://localhost:8080/"
        },
        "id": "MfArjK8S8D6i",
        "outputId": "ce7d8753-69a1-4c73-be8a-47169e4c48e9"
      },
      "source": [
        "logistic_obscene = LogisticRegression(random_state=0)\n",
        "logistic_obscene.fit(train_X, train['obscene'])"
      ],
      "execution_count": null,
      "outputs": [
        {
          "data": {
            "text/plain": [
              "LogisticRegression(random_state=0)"
            ]
          },
          "execution_count": 16,
          "metadata": {},
          "output_type": "execute_result"
        }
      ]
    },
    {
      "cell_type": "code",
      "metadata": {
        "colab": {
          "base_uri": "https://localhost:8080/"
        },
        "id": "jvW-8zBF8Eq8",
        "outputId": "2baa5f97-d8f5-4cd8-cb72-6df14ff7cfb6"
      },
      "source": [
        "logistic_threat = LogisticRegression(random_state=0)\n",
        "logistic_threat.fit(train_X, train['threat'])"
      ],
      "execution_count": null,
      "outputs": [
        {
          "data": {
            "text/plain": [
              "LogisticRegression(random_state=0)"
            ]
          },
          "execution_count": 17,
          "metadata": {},
          "output_type": "execute_result"
        }
      ]
    },
    {
      "cell_type": "code",
      "metadata": {
        "colab": {
          "base_uri": "https://localhost:8080/"
        },
        "id": "keFNaFmd8FJZ",
        "outputId": "580f288d-59c7-4d63-90bf-c40f38c38607"
      },
      "source": [
        "logistic_insult = LogisticRegression(random_state=0)\n",
        "logistic_insult.fit(train_X, train['insult'])"
      ],
      "execution_count": null,
      "outputs": [
        {
          "data": {
            "text/plain": [
              "LogisticRegression(random_state=0)"
            ]
          },
          "execution_count": 18,
          "metadata": {},
          "output_type": "execute_result"
        }
      ]
    },
    {
      "cell_type": "code",
      "metadata": {
        "colab": {
          "base_uri": "https://localhost:8080/"
        },
        "id": "P4l1jAuK8Fng",
        "outputId": "b5ca708c-38ab-4f4c-ed7d-43ecb3feb4fb"
      },
      "source": [
        "logistic_identityhate = LogisticRegression(random_state=0)\n",
        "logistic_identityhate.fit(train_X, train['identity_hate'])"
      ],
      "execution_count": null,
      "outputs": [
        {
          "data": {
            "text/plain": [
              "LogisticRegression(random_state=0)"
            ]
          },
          "execution_count": 19,
          "metadata": {},
          "output_type": "execute_result"
        }
      ]
    },
    {
      "cell_type": "markdown",
      "metadata": {
        "id": "P0jD57bvHdH0"
      },
      "source": [
        "Model Evaluation"
      ]
    },
    {
      "cell_type": "code",
      "metadata": {
        "id": "dE9TO9jYXtNW"
      },
      "source": [
        "logistic_toxic_predicted = logistic_toxic.predict(test_X)\n",
        "logistic_severetoxic_predicted = logistic_severetoxic.predict(test_X)\n",
        "logistic_obscene_predicted = logistic_obscene.predict(test_X)\n",
        "logistic_threat_predicted = logistic_threat.predict(test_X)\n",
        "logistic_insult_predicted = logistic_insult.predict(test_X)\n",
        "logistic_identityhate_predicted = logistic_identityhate.predict(test_X)\n",
        "\n",
        "stk1 = np.column_stack((logistic_toxic_predicted,logistic_severetoxic_predicted))\n",
        "stk2 = np.column_stack((stk1, logistic_obscene_predicted))\n",
        "stk3 = np.column_stack((stk2, logistic_threat_predicted))\n",
        "stk4 = np.column_stack((stk3, logistic_insult_predicted))\n",
        "stk5 = np.column_stack((stk4, logistic_identityhate_predicted))"
      ],
      "execution_count": null,
      "outputs": []
    },
    {
      "cell_type": "markdown",
      "metadata": {
        "id": "U8p03CkmLE-q"
      },
      "source": [
        "Baseline Metrics"
      ]
    },
    {
      "cell_type": "code",
      "metadata": {
        "colab": {
          "base_uri": "https://localhost:8080/"
        },
        "id": "wRlxDXYRQ4pQ",
        "outputId": "e234ae68-9714-4aa2-8dca-fabd66624deb"
      },
      "source": [
        "logistic_accuracy = metrics.accuracy_score(test_y, stk5)\n",
        "logistic_precision = metrics.precision_score(test_y, stk5, average='macro')\n",
        "logistic_f1score = metrics.f1_score(test_y, stk5, average='macro')\n",
        "logistic_recall = metrics.recall_score(test_y, stk5, average='macro')\n",
        "\n",
        "print(\"Accuracy:\", logistic_accuracy)\n",
        "print(\"Precision:\", logistic_precision)\n",
        "print(\"Recall:\", logistic_recall)\n",
        "print(\"F1 Score:\", logistic_f1score)"
      ],
      "execution_count": null,
      "outputs": [
        {
          "name": "stdout",
          "output_type": "stream",
          "text": [
            "Accuracy: 0.895589108756135\n",
            "Precision: 0.03573210963982707\n",
            "Recall: 0.001642134665125069\n",
            "F1 Score: 0.0031046445885034826\n"
          ]
        }
      ]
    },
    {
      "cell_type": "markdown",
      "metadata": {
        "id": "mCNkPk_8e_4z"
      },
      "source": [
        "# Proposed Models"
      ]
    },
    {
      "cell_type": "code",
      "metadata": {
        "id": "EkWGvZeqX3gn"
      },
      "source": [
        "# Helper Function\n",
        "\n",
        "def print_graph(history):\n",
        "  plt.plot(history.history['accuracy'])\n",
        "  plt.plot(history.history['val_accuracy'])\n",
        "\n",
        "  plt.title('model accuracy')\n",
        "  plt.xlabel('epoch')\n",
        "  plt.ylabel('accuracy')\n",
        "\n",
        "  plt.legend(['train', 'val'], loc='upper left')\n",
        "  plt.show()\n",
        "\n",
        "  plt.plot(history.history['loss'])\n",
        "  plt.plot(history.history['val_loss'])\n",
        "\n",
        "  plt.title('model loss')\n",
        "  plt.xlabel('epoch')\n",
        "  plt.ylabel('loss')\n",
        "\n",
        "  plt.legend(['train', 'val'], loc='upper left')\n",
        "  plt.show()\n",
        "\n",
        "def convertToBinary(x):\n",
        "  if x >= 0.5:\n",
        "    return 1\n",
        "  else:\n",
        "    return 0"
      ],
      "execution_count": null,
      "outputs": []
    },
    {
      "cell_type": "markdown",
      "metadata": {
        "id": "NDWsePuOP_jR"
      },
      "source": [
        "## Model 1 - Keras Inbuilt Embedding + Single Layer LSTM\n",
        "## Model 2 - Keras Inbuilt Embedding + Single Layer Bidirectional LSTM"
      ]
    },
    {
      "cell_type": "code",
      "metadata": {
        "collapsed": true,
        "id": "-6X0gDC_6QgG"
      },
      "source": [
        "tokenizer = Tokenizer(num_words=20000) #maximum features\n",
        "\n",
        "tokenizer.fit_on_texts(list(train['comment_text']))\n",
        "\n",
        "train_x_tokenized = tokenizer.texts_to_sequences(train[\"comment_text\"])\n",
        "test_x_tokenized = tokenizer.texts_to_sequences(test[\"comment_text\"])"
      ],
      "execution_count": null,
      "outputs": []
    },
    {
      "cell_type": "code",
      "metadata": {
        "collapsed": true,
        "id": "lhDIGAww6QgI"
      },
      "source": [
        "train_X = pad_sequences(train_x_tokenized, maxlen=200)\n",
        "test_X = pad_sequences(test_x_tokenized, maxlen=200)\n",
        "\n",
        "labels = [\"toxic\", \"severe_toxic\", \"obscene\", \"threat\", \"insult\", \"identity_hate\"]\n",
        "train_Y = train[labels].copy().to_numpy()\n",
        "test_Y = test_y.to_numpy()"
      ],
      "execution_count": null,
      "outputs": []
    },
    {
      "cell_type": "code",
      "metadata": {
        "id": "xEg8qWQg8LV0"
      },
      "source": [
        "#Embedding Parameters\n",
        "maximum_features = 20000\n",
        "embedding_size = 128"
      ],
      "execution_count": null,
      "outputs": []
    },
    {
      "cell_type": "markdown",
      "metadata": {
        "id": "bJsQS2wlF9D2"
      },
      "source": [
        "Keras Inbuilt Embedding + Single Layer LSTM"
      ]
    },
    {
      "cell_type": "code",
      "metadata": {
        "id": "kw7CPrfJzxZt"
      },
      "source": [
        "def lstm_model_structure():\n",
        "  model = Sequential()\n",
        "  model.add(Embedding(maximum_features, embedding_size))\n",
        "  model.add(LSTM(60, return_sequences=True,name='lstm_layer'))\n",
        "  model.add(GlobalMaxPool1D())\n",
        "  model.add(Dropout(0.1))\n",
        "  model.add(Dense(50, activation=\"relu\"))\n",
        "  model.add(Dropout(0.1))\n",
        "  model.add(Dense(6, activation=\"sigmoid\"))\n",
        "  \n",
        "  model.compile(loss='binary_crossentropy', optimizer='adam', metrics=['accuracy'])\t\n",
        "\n",
        "  return model"
      ],
      "execution_count": null,
      "outputs": []
    },
    {
      "cell_type": "code",
      "metadata": {
        "colab": {
          "base_uri": "https://localhost:8080/"
        },
        "id": "BOiEATgC0pYR",
        "outputId": "69ff757f-e351-4121-85a1-112e91db1e78"
      },
      "source": [
        "lstm_model = lstm_model_structure()\n",
        "lstm_model.summary()"
      ],
      "execution_count": null,
      "outputs": [
        {
          "output_type": "stream",
          "name": "stdout",
          "text": [
            "Model: \"sequential\"\n",
            "_________________________________________________________________\n",
            " Layer (type)                Output Shape              Param #   \n",
            "=================================================================\n",
            " embedding_1 (Embedding)     (None, None, 128)         2560000   \n",
            "                                                                 \n",
            " lstm_layer (LSTM)           (None, None, 60)          45360     \n",
            "                                                                 \n",
            " global_max_pooling1d_1 (Glo  (None, 60)               0         \n",
            " balMaxPooling1D)                                                \n",
            "                                                                 \n",
            " dropout_1 (Dropout)         (None, 60)                0         \n",
            "                                                                 \n",
            " dense_2 (Dense)             (None, 50)                3050      \n",
            "                                                                 \n",
            " dropout_2 (Dropout)         (None, 50)                0         \n",
            "                                                                 \n",
            " dense_3 (Dense)             (None, 6)                 306       \n",
            "                                                                 \n",
            "=================================================================\n",
            "Total params: 2,608,716\n",
            "Trainable params: 2,608,716\n",
            "Non-trainable params: 0\n",
            "_________________________________________________________________\n"
          ]
        }
      ]
    },
    {
      "cell_type": "code",
      "metadata": {
        "colab": {
          "base_uri": "https://localhost:8080/"
        },
        "id": "FIPZp2-j1vc5",
        "outputId": "5d784b27-759a-4866-baeb-d20a6cfacd30"
      },
      "source": [
        "history_lstm_model = lstm_model.fit(train_X,train_Y, batch_size=32, epochs=2, validation_split=0.1)"
      ],
      "execution_count": null,
      "outputs": [
        {
          "output_type": "stream",
          "name": "stdout",
          "text": [
            "Epoch 1/2\n",
            "4488/4488 [==============================] - 205s 45ms/step - loss: 0.0706 - accuracy: 0.9561 - val_loss: 0.0524 - val_accuracy: 0.9940\n",
            "Epoch 2/2\n",
            "4488/4488 [==============================] - 201s 45ms/step - loss: 0.0450 - accuracy: 0.9863 - val_loss: 0.0488 - val_accuracy: 0.9939\n"
          ]
        }
      ]
    },
    {
      "cell_type": "code",
      "metadata": {
        "colab": {
          "base_uri": "https://localhost:8080/",
          "height": 573
        },
        "id": "Ql1gwNO-tyka",
        "outputId": "a4cd99b5-090b-45f2-d13d-4be6dbdacf82"
      },
      "source": [
        "print_graph(history_lstm_model)"
      ],
      "execution_count": null,
      "outputs": [
        {
          "output_type": "display_data",
          "data": {
            "image/png": "[encoded data removed]",
            "text/plain": [
              "<Figure size 432x288 with 1 Axes>"
            ]
          },
          "metadata": {
            "needs_background": "light"
          }
        },
        {
          "output_type": "display_data",
          "data": {
            "image/png": "[encoded data removed]",
            "text/plain": [
              "<Figure size 432x288 with 1 Axes>"
            ]
          },
          "metadata": {
            "needs_background": "light"
          }
        }
      ]
    },
    {
      "cell_type": "code",
      "metadata": {
        "id": "mmX7NLFs9VtU"
      },
      "source": [
        "lstm_predicted = lstm_model.predict(test_X)"
      ],
      "execution_count": null,
      "outputs": []
    },
    {
      "cell_type": "code",
      "metadata": {
        "id": "G5TqHXneFCYL"
      },
      "source": [
        "vector_func = np.vectorize(convertToBinary)"
      ],
      "execution_count": null,
      "outputs": []
    },
    {
      "cell_type": "code",
      "metadata": {
        "colab": {
          "base_uri": "https://localhost:8080/"
        },
        "id": "2cRMeIb79mlI",
        "outputId": "eef167cf-4b87-448c-cc73-4f8767c22706"
      },
      "source": [
        "metrics.accuracy_score(test_Y, vector_func(lstm_predicted))"
      ],
      "execution_count": null,
      "outputs": [
        {
          "output_type": "execute_result",
          "data": {
            "text/plain": [
              "0.86951764669105"
            ]
          },
          "metadata": {},
          "execution_count": 48
        }
      ]
    },
    {
      "cell_type": "markdown",
      "metadata": {
        "id": "j1wMQfP0yP3e"
      },
      "source": [
        "Keras Inbuilt Embedding + Single Layer Bidirectional LSTM"
      ]
    },
    {
      "cell_type": "code",
      "metadata": {
        "id": "-xH7BbSr76_S"
      },
      "source": [
        "def bidirectional_model_structure():\n",
        "  model = Sequential()\n",
        "  model.add(Embedding(maximum_features, embedding_size))\n",
        "  model.add(Bidirectional(LSTM(60, return_sequences=True,name='bidirectional_lstm_layer')))\n",
        "  model.add(GlobalMaxPool1D())\n",
        "  model.add(Dropout(0.1))\n",
        "  model.add(Dense(50, activation=\"relu\"))\n",
        "  model.add(Dropout(0.1))\n",
        "  model.add(Dense(6, activation=\"sigmoid\"))\n",
        "  \n",
        "  model.compile(loss='binary_crossentropy', optimizer='adam', metrics=['accuracy'])\t\n",
        "\n",
        "  return model"
      ],
      "execution_count": null,
      "outputs": []
    },
    {
      "cell_type": "code",
      "metadata": {
        "colab": {
          "base_uri": "https://localhost:8080/"
        },
        "id": "PwMjTynz76_T",
        "outputId": "33f0083f-c6ad-4216-e07a-f0dc2f99128b"
      },
      "source": [
        "bidirectional_lstm_model = bidirectional_model_structure()\n",
        "bidirectional_lstm_model.summary()"
      ],
      "execution_count": null,
      "outputs": [
        {
          "output_type": "stream",
          "name": "stdout",
          "text": [
            "Model: \"sequential_1\"\n",
            "_________________________________________________________________\n",
            " Layer (type)                Output Shape              Param #   \n",
            "=================================================================\n",
            " embedding_2 (Embedding)     (None, None, 128)         2560000   \n",
            "                                                                 \n",
            " bidirectional_2 (Bidirectio  (None, None, 120)        90720     \n",
            " nal)                                                            \n",
            "                                                                 \n",
            " global_max_pooling1d_2 (Glo  (None, 120)              0         \n",
            " balMaxPooling1D)                                                \n",
            "                                                                 \n",
            " dropout_3 (Dropout)         (None, 120)               0         \n",
            "                                                                 \n",
            " dense_4 (Dense)             (None, 50)                6050      \n",
            "                                                                 \n",
            " dropout_4 (Dropout)         (None, 50)                0         \n",
            "                                                                 \n",
            " dense_5 (Dense)             (None, 6)                 306       \n",
            "                                                                 \n",
            "=================================================================\n",
            "Total params: 2,657,076\n",
            "Trainable params: 2,657,076\n",
            "Non-trainable params: 0\n",
            "_________________________________________________________________\n"
          ]
        }
      ]
    },
    {
      "cell_type": "code",
      "metadata": {
        "colab": {
          "base_uri": "https://localhost:8080/"
        },
        "id": "UNjVrgoF76_T",
        "outputId": "9fc7d2d1-2781-48ec-d20e-08d33c80237d"
      },
      "source": [
        "history_bidirectional_lstm_model = bidirectional_lstm_model.fit(train_X,train_Y, batch_size=32, epochs=2, validation_split=0.1)"
      ],
      "execution_count": null,
      "outputs": [
        {
          "output_type": "stream",
          "name": "stdout",
          "text": [
            "Epoch 1/2\n",
            "4488/4488 [==============================] - 396s 87ms/step - loss: 0.0634 - accuracy: 0.9418 - val_loss: 0.0508 - val_accuracy: 0.9940\n",
            "Epoch 2/2\n",
            "4488/4488 [==============================] - 390s 87ms/step - loss: 0.0453 - accuracy: 0.9743 - val_loss: 0.0495 - val_accuracy: 0.9913\n"
          ]
        }
      ]
    },
    {
      "cell_type": "code",
      "metadata": {
        "colab": {
          "base_uri": "https://localhost:8080/",
          "height": 573
        },
        "id": "5iyjug7-76_T",
        "outputId": "861e24dd-6ebd-437c-ced0-bd41906b7ff5"
      },
      "source": [
        "print_graph(history_bidirectional_lstm_model)"
      ],
      "execution_count": null,
      "outputs": [
        {
          "output_type": "display_data",
          "data": {
            "image/png": "[encoded data removed]",
            "text/plain": [
              "<Figure size 432x288 with 1 Axes>"
            ]
          },
          "metadata": {
            "needs_background": "light"
          }
        },
        {
          "output_type": "display_data",
          "data": {
            "image/png": "[encoded data removed]",
            "text/plain": [
              "<Figure size 432x288 with 1 Axes>"
            ]
          },
          "metadata": {
            "needs_background": "light"
          }
        }
      ]
    },
    {
      "cell_type": "code",
      "metadata": {
        "id": "DLIBMUlCGO9F"
      },
      "source": [
        "bidirectional_lstm_predicted = bidirectional_lstm_model.predict(test_X)"
      ],
      "execution_count": null,
      "outputs": []
    },
    {
      "cell_type": "code",
      "metadata": {
        "colab": {
          "base_uri": "https://localhost:8080/"
        },
        "id": "S6-cK1SwGO9G",
        "outputId": "4f49fe5f-8020-4adc-96da-9ca71b0bbac6"
      },
      "source": [
        "metrics.accuracy_score(test_Y, vector_func(bidirectional_lstm_predicted))"
      ],
      "execution_count": null,
      "outputs": [
        {
          "output_type": "execute_result",
          "data": {
            "text/plain": [
              "0.8825690080965332"
            ]
          },
          "metadata": {},
          "execution_count": 54
        }
      ]
    },
    {
      "cell_type": "markdown",
      "metadata": {
        "id": "VJErGjk6Rl5A"
      },
      "source": [
        "## Model 3 - Glove Embedding + Bidirectional LSTM"
      ]
    },
    {
      "cell_type": "code",
      "metadata": {
        "id": "1SNL6-9Ace9g"
      },
      "source": [
        "# Load GloVe Embeddings\n",
        "\n",
        "def load_glove_index():\n",
        "    EMBEDDING_FILE = DATA_PATH + 'glove.840B.300d.txt'\n",
        "    def get_coefs(word,*arr): return word, np.asarray(arr, dtype='float32')[:300]\n",
        "    embeddings_index = dict(get_coefs(*o.split(\" \")) for o in open(EMBEDDING_FILE))\n",
        "    return embeddings_index\n",
        "\n",
        "embeddings_index = load_glove_index()"
      ],
      "execution_count": null,
      "outputs": []
    },
    {
      "cell_type": "code",
      "metadata": {
        "colab": {
          "base_uri": "https://localhost:8080/"
        },
        "id": "s9kgX_NTssF_",
        "outputId": "93518b81-b394-47f2-e48d-38a9fc8eb447"
      },
      "source": [
        "print(\"Words in GloVe: \", len(embeddings_index))"
      ],
      "execution_count": null,
      "outputs": [
        {
          "output_type": "stream",
          "name": "stdout",
          "text": [
            "Words in GloVe:  2196017\n"
          ]
        }
      ]
    },
    {
      "cell_type": "code",
      "metadata": {
        "id": "a3DwHj0078We"
      },
      "source": [
        "embed_size = 300\n",
        "max_features = 20000\n",
        "maxlen = 100"
      ],
      "execution_count": null,
      "outputs": []
    },
    {
      "cell_type": "code",
      "metadata": {
        "id": "DZBbvzA47g8C"
      },
      "source": [
        "X_train = pad_sequences(train_x_tokenized, maxlen=maxlen)\n",
        "X_test = pad_sequences(test_x_tokenized, maxlen=maxlen)\n",
        "y_train = train_Y\n",
        "y_test = test_Y"
      ],
      "execution_count": null,
      "outputs": []
    },
    {
      "cell_type": "code",
      "metadata": {
        "colab": {
          "base_uri": "https://localhost:8080/"
        },
        "id": "HVMGkkcs7g3D",
        "outputId": "0d26306f-8313-480e-853d-e404bb6cf6e8"
      },
      "source": [
        "all_embs = np.stack(embeddings_index.values())\n",
        "emb_mean,emb_std = all_embs.mean(), all_embs.std()\n",
        "emb_mean,emb_std"
      ],
      "execution_count": null,
      "outputs": [
        {
          "output_type": "execute_result",
          "data": {
            "text/plain": [
              "(-0.005838503, 0.48782194)"
            ]
          },
          "metadata": {},
          "execution_count": 21
        }
      ]
    },
    {
      "cell_type": "code",
      "metadata": {
        "id": "LzElPP0M7g0-"
      },
      "source": [
        "word_index = tokenizer.word_index\n",
        "nb_words = min(max_features, len(word_index))\n",
        "embedding_matrix = np.random.normal(emb_mean, emb_std, (nb_words, embed_size))\n",
        "for word, i in word_index.items():\n",
        "    if i >= max_features: continue\n",
        "    embedding_vector = embeddings_index.get(word)\n",
        "    if embedding_vector is not None: embedding_matrix[i] = embedding_vector\n"
      ],
      "execution_count": null,
      "outputs": []
    },
    {
      "cell_type": "code",
      "metadata": {
        "colab": {
          "base_uri": "https://localhost:8080/"
        },
        "id": "5SrSLWKz7gyo",
        "outputId": "0e6fda8b-8579-4f4d-a697-1edadc3d9a9d"
      },
      "source": [
        "inp = Input(shape=(maxlen,))\n",
        "x = Embedding(max_features, embed_size, weights=[embedding_matrix], trainable=True)(inp)\n",
        "x = Bidirectional(LSTM(50, return_sequences=True,dropout=0.1, recurrent_dropout=0.1))(x)\n",
        "x = Bidirectional(LSTM(50, return_sequences=True,dropout=0.1, recurrent_dropout=0.1))(x)\n",
        "x = GlobalMaxPool1D()(x)\n",
        "x = BatchNormalization()(x)\n",
        "x = Dense(50, activation=\"relu\")(x)\n",
        "#x = BatchNormalization()(x)\n",
        "x = Dropout(0.1)(x)\n",
        "x = Dense(6, activation=\"sigmoid\")(x)\n",
        "model = Model(inputs=inp, outputs=x)\n",
        "\n",
        "import keras.backend as K\n",
        "def loss(y_true, y_pred):\n",
        "     return K.binary_crossentropy(y_true, y_pred)\n",
        "    \n",
        "model.compile(loss=loss, optimizer='nadam', metrics=['accuracy'])\n"
      ],
      "execution_count": null,
      "outputs": [
        {
          "output_type": "stream",
          "name": "stdout",
          "text": [
            "WARNING:tensorflow:Layer lstm will not use cuDNN kernels since it doesn't meet the criteria. It will use a generic GPU kernel as fallback when running on GPU.\n",
            "WARNING:tensorflow:Layer lstm will not use cuDNN kernels since it doesn't meet the criteria. It will use a generic GPU kernel as fallback when running on GPU.\n",
            "WARNING:tensorflow:Layer lstm will not use cuDNN kernels since it doesn't meet the criteria. It will use a generic GPU kernel as fallback when running on GPU.\n",
            "WARNING:tensorflow:Layer lstm_1 will not use cuDNN kernels since it doesn't meet the criteria. It will use a generic GPU kernel as fallback when running on GPU.\n",
            "WARNING:tensorflow:Layer lstm_1 will not use cuDNN kernels since it doesn't meet the criteria. It will use a generic GPU kernel as fallback when running on GPU.\n",
            "WARNING:tensorflow:Layer lstm_1 will not use cuDNN kernels since it doesn't meet the criteria. It will use a generic GPU kernel as fallback when running on GPU.\n"
          ]
        }
      ]
    },
    {
      "cell_type": "code",
      "metadata": {
        "colab": {
          "base_uri": "https://localhost:8080/"
        },
        "id": "jj8VlWgk7grX",
        "outputId": "2125a5fe-4717-48fb-fc4d-1ff1986e9030"
      },
      "source": [
        "def schedule(ind):\n",
        "    a = [0.002,0.003, 0.01]\n",
        "    return a[ind]\n",
        "lr = callbacks.LearningRateScheduler(schedule)\n",
        "\n",
        "import tensorflow as tf\n",
        "y_train = tf.cast(y_train, tf.float32)\n",
        "history = model.fit(X_train, y_train, batch_size=256,validation_split=0.2, epochs=3, callbacks=[lr])"
      ],
      "execution_count": null,
      "outputs": [
        {
          "output_type": "stream",
          "name": "stdout",
          "text": [
            "Epoch 1/3\n",
            "499/499 [==============================] - 1277s 3s/step - loss: 0.0788 - accuracy: 0.6634 - val_loss: 0.0533 - val_accuracy: 0.7363 - lr: 0.0020\n",
            "Epoch 2/3\n",
            "499/499 [==============================] - 1279s 3s/step - loss: 0.0461 - accuracy: 0.8124 - val_loss: 0.0463 - val_accuracy: 0.9375 - lr: 0.0030\n",
            "Epoch 3/3\n",
            "499/499 [==============================] - 1269s 3s/step - loss: 0.0448 - accuracy: 0.8686 - val_loss: 0.0496 - val_accuracy: 0.9889 - lr: 0.0100\n"
          ]
        }
      ]
    },
    {
      "cell_type": "code",
      "metadata": {
        "colab": {
          "base_uri": "https://localhost:8080/"
        },
        "id": "4jhRh4aS_Vjg",
        "outputId": "9b156d33-e42a-4dc7-8a29-569af84d6bd4"
      },
      "source": [
        "model.save(DATA_PATH + \"glove_bilstm\")"
      ],
      "execution_count": null,
      "outputs": [
        {
          "output_type": "stream",
          "name": "stdout",
          "text": [
            "INFO:tensorflow:Assets written to: drive/MyDrive/nlp_project/glove_bilstm2/assets\n"
          ]
        },
        {
          "output_type": "stream",
          "name": "stderr",
          "text": [
            "WARNING:absl:<keras.layers.recurrent.LSTMCell object at 0x7fc0025f3e10> has the same name 'LSTMCell' as a built-in Keras object. Consider renaming <class 'keras.layers.recurrent.LSTMCell'> to avoid naming conflicts when loading with `tf.keras.models.load_model`. If renaming is not possible, pass the object in the `custom_objects` parameter of the load function.\n",
            "WARNING:absl:<keras.layers.recurrent.LSTMCell object at 0x7fbff7d10310> has the same name 'LSTMCell' as a built-in Keras object. Consider renaming <class 'keras.layers.recurrent.LSTMCell'> to avoid naming conflicts when loading with `tf.keras.models.load_model`. If renaming is not possible, pass the object in the `custom_objects` parameter of the load function.\n",
            "WARNING:absl:<keras.layers.recurrent.LSTMCell object at 0x7fbff7c05950> has the same name 'LSTMCell' as a built-in Keras object. Consider renaming <class 'keras.layers.recurrent.LSTMCell'> to avoid naming conflicts when loading with `tf.keras.models.load_model`. If renaming is not possible, pass the object in the `custom_objects` parameter of the load function.\n",
            "WARNING:absl:<keras.layers.recurrent.LSTMCell object at 0x7fbff7c0a510> has the same name 'LSTMCell' as a built-in Keras object. Consider renaming <class 'keras.layers.recurrent.LSTMCell'> to avoid naming conflicts when loading with `tf.keras.models.load_model`. If renaming is not possible, pass the object in the `custom_objects` parameter of the load function.\n"
          ]
        }
      ]
    },
    {
      "cell_type": "code",
      "metadata": {
        "colab": {
          "base_uri": "https://localhost:8080/"
        },
        "id": "8N0HxTt6q03_",
        "outputId": "a548ad63-25fc-4fd2-cef5-4827797cbbce"
      },
      "source": [
        "model_load = keras.models.load_model(DATA_PATH + \"glove_bilstm\", custom_objects={\"loss\":loss})"
      ],
      "execution_count": null,
      "outputs": [
        {
          "output_type": "stream",
          "name": "stdout",
          "text": [
            "WARNING:tensorflow:Layer lstm will not use cuDNN kernels since it doesn't meet the criteria. It will use a generic GPU kernel as fallback when running on GPU.\n"
          ]
        },
        {
          "output_type": "stream",
          "name": "stderr",
          "text": [
            "WARNING:tensorflow:Layer lstm will not use cuDNN kernels since it doesn't meet the criteria. It will use a generic GPU kernel as fallback when running on GPU.\n"
          ]
        },
        {
          "output_type": "stream",
          "name": "stdout",
          "text": [
            "WARNING:tensorflow:Layer lstm will not use cuDNN kernels since it doesn't meet the criteria. It will use a generic GPU kernel as fallback when running on GPU.\n"
          ]
        },
        {
          "output_type": "stream",
          "name": "stderr",
          "text": [
            "WARNING:tensorflow:Layer lstm will not use cuDNN kernels since it doesn't meet the criteria. It will use a generic GPU kernel as fallback when running on GPU.\n"
          ]
        },
        {
          "output_type": "stream",
          "name": "stdout",
          "text": [
            "WARNING:tensorflow:Layer lstm will not use cuDNN kernels since it doesn't meet the criteria. It will use a generic GPU kernel as fallback when running on GPU.\n"
          ]
        },
        {
          "output_type": "stream",
          "name": "stderr",
          "text": [
            "WARNING:tensorflow:Layer lstm will not use cuDNN kernels since it doesn't meet the criteria. It will use a generic GPU kernel as fallback when running on GPU.\n"
          ]
        },
        {
          "output_type": "stream",
          "name": "stdout",
          "text": [
            "WARNING:tensorflow:Layer lstm_1 will not use cuDNN kernels since it doesn't meet the criteria. It will use a generic GPU kernel as fallback when running on GPU.\n"
          ]
        },
        {
          "output_type": "stream",
          "name": "stderr",
          "text": [
            "WARNING:tensorflow:Layer lstm_1 will not use cuDNN kernels since it doesn't meet the criteria. It will use a generic GPU kernel as fallback when running on GPU.\n"
          ]
        },
        {
          "output_type": "stream",
          "name": "stdout",
          "text": [
            "WARNING:tensorflow:Layer lstm_1 will not use cuDNN kernels since it doesn't meet the criteria. It will use a generic GPU kernel as fallback when running on GPU.\n"
          ]
        },
        {
          "output_type": "stream",
          "name": "stderr",
          "text": [
            "WARNING:tensorflow:Layer lstm_1 will not use cuDNN kernels since it doesn't meet the criteria. It will use a generic GPU kernel as fallback when running on GPU.\n"
          ]
        },
        {
          "output_type": "stream",
          "name": "stdout",
          "text": [
            "WARNING:tensorflow:Layer lstm_1 will not use cuDNN kernels since it doesn't meet the criteria. It will use a generic GPU kernel as fallback when running on GPU.\n"
          ]
        },
        {
          "output_type": "stream",
          "name": "stderr",
          "text": [
            "WARNING:tensorflow:Layer lstm_1 will not use cuDNN kernels since it doesn't meet the criteria. It will use a generic GPU kernel as fallback when running on GPU.\n"
          ]
        }
      ]
    },
    {
      "cell_type": "code",
      "metadata": {
        "colab": {
          "base_uri": "https://localhost:8080/"
        },
        "id": "H_6wPc-uVgCu",
        "outputId": "d3ef1b14-09e9-4e41-dd59-0904e2df57a2"
      },
      "source": [
        "y_test = tf.cast(y_test, tf.float32)\n",
        "model_load.evaluate(X_test, y_test, batch_size=256)"
      ],
      "execution_count": null,
      "outputs": [
        {
          "output_type": "stream",
          "name": "stdout",
          "text": [
            "250/250 [==============================] - 46s 179ms/step - loss: 0.0721 - accuracy: 0.9486\n"
          ]
        },
        {
          "output_type": "execute_result",
          "data": {
            "text/plain": [
              "[0.07214516401290894, 0.948607325553894]"
            ]
          },
          "metadata": {},
          "execution_count": 33
        }
      ]
    },
    {
      "cell_type": "code",
      "metadata": {
        "colab": {
          "base_uri": "https://localhost:8080/",
          "height": 573
        },
        "id": "miOJrJiZ052j",
        "outputId": "449a78ff-9d5e-4237-9749-46b51189c479"
      },
      "source": [
        "print_graph(history)"
      ],
      "execution_count": null,
      "outputs": [
        {
          "output_type": "display_data",
          "data": {
            "image/png": "[encoded data removed]",
            "text/plain": [
              "<Figure size 432x288 with 1 Axes>"
            ]
          },
          "metadata": {
            "needs_background": "light"
          }
        },
        {
          "output_type": "display_data",
          "data": {
            "image/png": "[encoded data removed]",
            "text/plain": [
              "<Figure size 432x288 with 1 Axes>"
            ]
          },
          "metadata": {
            "needs_background": "light"
          }
        }
      ]
    }
  ]
}